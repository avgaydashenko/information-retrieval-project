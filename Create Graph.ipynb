{
 "cells": [
  {
   "cell_type": "code",
   "execution_count": 18,
   "metadata": {},
   "outputs": [],
   "source": [
    "import os\n",
    "import pickle\n",
    "from tqdm import tqdm\n",
    "from math import log\n",
    "from nltk import PorterStemmer\n",
    "import newspaper"
   ]
  },
  {
   "cell_type": "code",
   "execution_count": 19,
   "metadata": {},
   "outputs": [],
   "source": [
    "folder = 'arxiv/'"
   ]
  },
  {
   "cell_type": "code",
   "execution_count": 21,
   "metadata": {},
   "outputs": [
    {
     "name": "stderr",
     "output_type": "stream",
     "text": [
      "100%|██████████| 2911/2911 [01:22<00:00, 35.50it/s]\n"
     ]
    }
   ],
   "source": [
    "stemmer = PorterStemmer()\n",
    "url_start = '<meta name=\"citation_pdf_url\" content=\"'\n",
    "url_end = '\" />'\n",
    "authors = []\n",
    "keywords = []\n",
    "authors_keywords = []\n",
    "for d in tqdm(os.listdir(folder)):\n",
    "    with open(folder + d) as f:\n",
    "        with open(folder + d) as f1:\n",
    "            htmlf=f1.read().replace('\\n', '')\n",
    "            for line in f.readlines():\n",
    "                if url_start in line:\n",
    "                    url = line[len(url_start):-len(url_end)-1]\n",
    "                    article = newspaper.article.Article(url)\n",
    "                    article.download(input_html=htmlf)\n",
    "                    article.parse()\n",
    "                    a = article.authors\n",
    "                    k = article.keywords\n",
    "                    authors.append(a)\n",
    "                    keywords.append(k)\n",
    "                    authors_keywords.append([a, k])"
   ]
  },
  {
   "cell_type": "code",
   "execution_count": 22,
   "metadata": {},
   "outputs": [
    {
     "data": {
      "text/plain": [
       "4701"
      ]
     },
     "execution_count": 22,
     "metadata": {},
     "output_type": "execute_result"
    }
   ],
   "source": [
    "v = set()\n",
    "for authors_l in authors:\n",
    "    if len(authors_l) > 1:\n",
    "        for a in authors_l:\n",
    "            v.add(a)\n",
    "len(v)"
   ]
  },
  {
   "cell_type": "code",
   "execution_count": 122,
   "metadata": {},
   "outputs": [
    {
     "data": {
      "text/plain": [
       "14501"
      ]
     },
     "execution_count": 122,
     "metadata": {},
     "output_type": "execute_result"
    }
   ],
   "source": [
    "e = []\n",
    "for authors_key in authors_keywords:\n",
    "    aus = authors_key[0]\n",
    "    key = authors_key[1]\n",
    "    for i in range(len(aus)):\n",
    "        for j in range(i + 1, len(aus)):\n",
    "            e.append([aus[i], aus[j], key])\n",
    "len(e)"
   ]
  },
  {
   "cell_type": "code",
   "execution_count": 119,
   "metadata": {},
   "outputs": [],
   "source": [
    "e =list(e)\n",
    "v = list(v)\n",
    "import string\n",
    "l = []"
   ]
  },
  {
   "cell_type": "code",
   "execution_count": 133,
   "metadata": {},
   "outputs": [],
   "source": [
    "l = [26, 27, 41, 53, 85, 86, 132, 138, 142, 154, 191, 231, 236, 264, 265, 275, 299, 300, 319, 338, 381, 408, 434, 458, 466, 474, 510, 551, 589, 626, 642, 651, 677, 678, 690, 693, 721, 743, 749, 756, 772, 816, 826, 902, 913, 930, 976, 980, 981, 1019, 1020, 1031, 1037, 1052, 1085, 1102, 1108, 1149, 1163, 1175, 1178, 1275, 1277, 1330, 1355, 1407, 1425, 1541, 1577, 1585, 1587, 1627, 1686, 1693, 1747, 1754, 1773, 1774, 1786, 1787, 1802, 1804, 1833, 1934, 1967, 1992, 2014, 2021, 2041, 2051, 2126, 2136, 2153, 2155, 2166, 2168, 2182, 2197, 2213, 2223, 2245, 2268, 2285, 2306, 2327, 2385, 2395, 2453, 2469, 2487, 2557, 2588, 2594, 2620, 2640, 2653, 2712, 2715, 2717, 2718, 2761, 2770, 2884, 2928, 2969, 3038, 3045, 3089, 3106, 3152, 3155, 3195, 3245, 3327, 3399, 3433, 3453, 3465, 3516, 3527, 3533, 3536, 3548, 3552, 3571, 3572, 3588, 3592, 3634, 3641, 3658, 3685, 3701, 3741, 3757, 3765, 3770, 3818, 3822, 3860, 3868, 3909, 3953, 3957, 4012, 4170, 4213, 4253, 4270, 4294, 4305, 4321, 4343, 4358, 4372, 4401, 4459, 4470, 4497, 4594, 4603, 4639, 4641, 4653, 4657, 4659]"
   ]
  },
  {
   "cell_type": "code",
   "execution_count": null,
   "metadata": {},
   "outputs": [],
   "source": [
    "fl = True\n",
    "while (fl):\n",
    "    fl = False\n",
    "    with open('2.gml', 'w') as f:\n",
    "        f.write('graph ['+'\\n')\n",
    "        for i in range(len(v)):\n",
    "            if i in l:\n",
    "                continue\n",
    "            try:\n",
    "                line = bytes(v[i], 'ascii')\n",
    "            except:\n",
    "                l.append(i)\n",
    "                print(l)\n",
    "                fl = True\n",
    "            f.write('  node [' +'\\n')\n",
    "            f.write('    id '+ str(i) +'\\n')\n",
    "            f.write('    label \"'+ v[i] +'\"\\n')\n",
    "            f.write('    name \"'+ v[i] +'\"\\n')\n",
    "            f.write('  ]'+'\\n')\n",
    "        for i in range(len(e)):\n",
    "            if v.index(e[i][0]) in l or v.index(e[i][1]) in l:\n",
    "                continue\n",
    "            f.write('  edge [' +'\\n')\n",
    "            f.write('    source '+ str(v.index(e[i][0])) +'\\n')\n",
    "            f.write('    target '+ str(v.index(e[i][1])) +'\\n')\n",
    "            f.write('    weight 1' +'\\n')\n",
    "            f.write('  ]'+'\\n')\n",
    "        f.write(']')"
   ]
  },
  {
   "cell_type": "code",
   "execution_count": 76,
   "metadata": {},
   "outputs": [],
   "source": [
    "G=nx.Graph()\n",
    "G.add_nodes_from(list(v))\n",
    "for e_i in e:\n",
    "    G.add_edge(e_i[0], e_i[1], name=e_i[2])"
   ]
  },
  {
   "cell_type": "code",
   "execution_count": null,
   "metadata": {},
   "outputs": [],
   "source": [
    "nx.draw_networkx(\n",
    "            G, pos=nx.circular_layout(G),\n",
    "            node_shape='o', node_size=4000, font_size=20,\n",
    "            edge_color='#555555', width=3.0\n",
    "        )"
   ]
  },
  {
   "cell_type": "code",
   "execution_count": 29,
   "metadata": {},
   "outputs": [
    {
     "name": "stderr",
     "output_type": "stream",
     "text": [
      "E-1001 (BAD_COLUMN_NAME): Glyph refers to nonexistent column name: fill_color [renderer: GlyphRenderer(id='0d391509-f6a1-4699-ad6b-c5d99f29de3c', ...)]\n"
     ]
    }
   ],
   "source": [
    "import networkx as nx\n",
    "\n",
    "from bokeh.io import show, output_file\n",
    "from bokeh.models import Plot, Range1d, MultiLine, Circle, HoverTool, TapTool, BoxSelectTool\n",
    "from bokeh.models.graphs import from_networkx, NodesAndLinkedEdges, EdgesAndLinkedNodes\n",
    "from bokeh.palettes import Spectral4\n",
    "\n",
    "\n",
    "\n",
    "plot = Plot(plot_width=400, plot_height=400,\n",
    "            x_range=Range1d(-1.1,1.1), y_range=Range1d(-1.1,1.1))\n",
    "plot.title.text = \"Graph Interaction Demonstration\"\n",
    "\n",
    "plot.add_tools(HoverTool(tooltips=None), TapTool(), BoxSelectTool())\n",
    "\n",
    "graph_renderer = from_networkx(G, nx.circular_layout, scale=1, center=(0,0))\n",
    "\n",
    "graph_renderer.node_renderer.glyph = Circle(size=15, fill_color=Spectral4[0])\n",
    "graph_renderer.node_renderer.selection_glyph = Circle(size=15, fill_color=Spectral4[2])\n",
    "graph_renderer.node_renderer.hover_glyph = Circle(size=15, fill_color=Spectral4[1])\n",
    "\n",
    "graph_renderer.edge_renderer.glyph = MultiLine(line_color=\"#CCCCCC\", line_alpha=0.8, line_width=5)\n",
    "graph_renderer.edge_renderer.selection_glyph = MultiLine(line_color=Spectral4[2], line_width=5)\n",
    "graph_renderer.edge_renderer.hover_glyph = MultiLine(line_color=Spectral4[1], line_width=5)\n",
    "\n",
    "graph_renderer.selection_policy = NodesAndLinkedEdges()\n",
    "graph_renderer.inspection_policy = EdgesAndLinkedNodes()\n",
    "\n",
    "plot.renderers.append(graph_renderer)\n",
    "\n",
    "output_file(\"interactive_graphs.html\")\n",
    "show(plot)"
   ]
  },
  {
   "cell_type": "code",
   "execution_count": null,
   "metadata": {},
   "outputs": [],
   "source": []
  }
 ],
 "metadata": {
  "kernelspec": {
   "display_name": "Python 3",
   "language": "python",
   "name": "python3"
  },
  "language_info": {
   "codemirror_mode": {
    "name": "ipython",
    "version": 3
   },
   "file_extension": ".py",
   "mimetype": "text/x-python",
   "name": "python",
   "nbconvert_exporter": "python",
   "pygments_lexer": "ipython3",
   "version": "3.6.3"
  }
 },
 "nbformat": 4,
 "nbformat_minor": 2
}
