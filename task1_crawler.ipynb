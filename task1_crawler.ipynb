{
 "cells": [
  {
   "cell_type": "code",
   "execution_count": 123,
   "metadata": {
    "collapsed": true
   },
   "outputs": [],
   "source": [
    "import requests\n",
    "from lxml import html"
   ]
  },
  {
   "cell_type": "code",
   "execution_count": 116,
   "metadata": {
    "collapsed": true
   },
   "outputs": [],
   "source": [
    "from reppy.robots import Robots\n",
    "from urllib.parse import urlsplit\n",
    "\n",
    "class Robot:\n",
    "    def __init__(self):\n",
    "        self.url_robot = {}\n",
    "        \n",
    "    def get_domain(self, url):\n",
    "        return \"{0.scheme}://{0.netloc}/\".format(urlsplit(url))\n",
    "\n",
    "    def get_robots(self, url):\n",
    "        return self.get_domain(url) + 'robots.txt'\n",
    "    \n",
    "    def is_allowed(self, url):\n",
    "        domain = self.get_domain(url)\n",
    "        if domain in self.url_robot:\n",
    "            return self.url_robot[domain].allowed(url)\n",
    "        else:\n",
    "            robot = Robots.fetch(self.get_robots(url))\n",
    "            agent = robot.agent('bot')\n",
    "            self.url_robot[domain] = agent\n",
    "            return agent.allowed(url)"
   ]
  },
  {
   "cell_type": "code",
   "execution_count": null,
   "metadata": {
    "collapsed": true
   },
   "outputs": [],
   "source": []
  }
 ],
 "metadata": {
  "kernelspec": {
   "display_name": "Python 3",
   "language": "python",
   "name": "python3"
  },
  "language_info": {
   "codemirror_mode": {
    "name": "ipython",
    "version": 3
   },
   "file_extension": ".py",
   "mimetype": "text/x-python",
   "name": "python",
   "nbconvert_exporter": "python",
   "pygments_lexer": "ipython3",
   "version": "3.6.1"
  }
 },
 "nbformat": 4,
 "nbformat_minor": 2
}
