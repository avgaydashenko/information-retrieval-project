{
 "cells": [
  {
   "cell_type": "code",
   "execution_count": 21,
   "metadata": {},
   "outputs": [],
   "source": [
    "def split_full_name(author_name):\n",
    "    full_name = author_name.replace('.', '').split(' ')\n",
    "    names = []\n",
    "    for name in full_name[:-1]:\n",
    "        if name.isupper():\n",
    "            names += [ch for ch in name]\n",
    "        else:\n",
    "            names += [name]\n",
    "    return names, full_name[-1]"
   ]
  },
  {
   "cell_type": "code",
   "execution_count": 22,
   "metadata": {},
   "outputs": [
    {
     "name": "stdout",
     "output_type": "stream",
     "text": [
      "(['Francua', 'Maria', 'T'], 'Williams-Reno')\n",
      "(['F', 'M', 'T'], 'Williams-Reno')\n",
      "(['F', 'M', 'T'], 'Williams-Reno')\n",
      "(['F', 'Maria', 'T'], 'Williams-Reno')\n",
      "(['Franc', 'M', 'T'], 'Williams-Reno')\n"
     ]
    }
   ],
   "source": [
    "print(split_full_name('Francua Maria T Williams-Reno'))\n",
    "print(split_full_name('F. M. T. Williams-Reno'))\n",
    "print(split_full_name('FMT Williams-Reno'))\n",
    "print(split_full_name('F Maria T Williams-Reno'))\n",
    "print(split_full_name('Franc MT Williams-Reno'))"
   ]
  },
  {
   "cell_type": "code",
   "execution_count": 23,
   "metadata": {},
   "outputs": [],
   "source": [
    "def possible_names(names, surname):\n",
    "    surnames = surname.split('-')\n",
    "    result = []\n",
    "    for surname in surnames:\n",
    "        surname = surname.title()\n",
    "        for name in names:\n",
    "            result += [name+' '+surname, name[0]+' '+surname, name[0]+'. '+surname]\n",
    "    return set(result)"
   ]
  },
  {
   "cell_type": "code",
   "execution_count": 24,
   "metadata": {},
   "outputs": [
    {
     "name": "stdout",
     "output_type": "stream",
     "text": [
      "{'T Williams', 'F. Williams', 'F. Reno', 'F Williams', 'F Reno', 'T Reno', 'T. Williams', 'Maria Williams', 'Maria Reno', 'M. Reno', 'M Reno', 'M. Williams', 'T. Reno', 'M Williams', 'Francua Williams', 'Francua Reno'}\n",
      "{'T Williams', 'F. Williams', 'F. Reno', 'F Williams', 'F Reno', 'T Reno', 'T. Williams', 'M. Reno', 'M Reno', 'M. Williams', 'T. Reno', 'M Williams'}\n",
      "{'T Williams', 'F. Williams', 'F. Reno', 'F Williams', 'F Reno', 'T Reno', 'T. Williams', 'M. Reno', 'M Reno', 'M. Williams', 'T. Reno', 'M Williams'}\n",
      "{'T Williams', 'F. Williams', 'F. Reno', 'F Williams', 'F Reno', 'T Reno', 'T. Williams', 'Maria Williams', 'Maria Reno', 'M. Reno', 'M Reno', 'M. Williams', 'T. Reno', 'M Williams'}\n"
     ]
    }
   ],
   "source": [
    "print(possible_names(*split_full_name('Francua Maria T Williams-Reno')))\n",
    "print(possible_names(*split_full_name('F. M. T. Williams-Reno')))\n",
    "print(possible_names(*split_full_name('FMT Williams-Reno')))\n",
    "print(possible_names(*split_full_name('F Maria T Williams-Reno')))"
   ]
  },
  {
   "cell_type": "code",
   "execution_count": 25,
   "metadata": {},
   "outputs": [],
   "source": [
    "def compare_name(name1, name2):\n",
    "    if len(name1) > 1 and len(name2) > 1:\n",
    "        return name1 in name2 or name2 in name1\n",
    "    return name1[0] == name2[0]"
   ]
  },
  {
   "cell_type": "code",
   "execution_count": 26,
   "metadata": {},
   "outputs": [
    {
     "name": "stdout",
     "output_type": "stream",
     "text": [
      "True\n",
      "True\n",
      "True\n",
      "False\n"
     ]
    }
   ],
   "source": [
    "print(compare_name('Franc', 'Francua'))\n",
    "print(compare_name('F', 'Francua'))\n",
    "print(compare_name('Francua', 'Francua'))\n",
    "print(compare_name('Tim', 'Francua'))"
   ]
  },
  {
   "cell_type": "code",
   "execution_count": 29,
   "metadata": {},
   "outputs": [],
   "source": [
    "def compare_names(fullname1, fullname2):\n",
    "    names1, surname1 = split_full_name(fullname1)\n",
    "    names2, surname2 = split_full_name(fullname2)\n",
    "\n",
    "    if '-' in surname1 or '-' in surname2:\n",
    "        res = compare_names(surname1.replace('-', ' ') + \" abc\", surname2.replace('-', ' ') + \" abc\")\n",
    "    else:\n",
    "        res = compare_name(surname1, surname2)\n",
    "        \n",
    "    if res:\n",
    "        ptr1, ptr2 = 0, 0\n",
    "\n",
    "        while ptr1 < len(names1) and ptr2 < len(names2):\n",
    "            if compare_name(names1[ptr1], names2[ptr2]):\n",
    "                ptr1 += 1\n",
    "                ptr2 += 1\n",
    "            else:\n",
    "                if len(names1) - ptr1 == len(names2) - ptr2:\n",
    "                    return False\n",
    "                if len(names1) - ptr1 > len(names2) - ptr2:\n",
    "                    ptr1 += 1\n",
    "                else:\n",
    "                    ptr2 += 1\n",
    "        return True\n",
    "\n",
    "    return False"
   ]
  },
  {
   "cell_type": "code",
   "execution_count": 38,
   "metadata": {},
   "outputs": [
    {
     "name": "stdout",
     "output_type": "stream",
     "text": [
      "True\n",
      "True\n",
      "True\n",
      "True\n"
     ]
    }
   ],
   "source": [
    "print(compare_names('Francua Maria T Williams-Reno', 'F. M. T. Williams-Reno'))\n",
    "print(compare_names('Francua Maria T Williams-Reno', 'Franc MT Williams-Reno'))\n",
    "print(compare_names('Franc M T Williams-Reno', 'F Maria T Williams-Reno'))\n",
    "print(compare_names('Maria T Williams-Reno', 'Franc MT Williams-Reno'))"
   ]
  },
  {
   "cell_type": "code",
   "execution_count": 39,
   "metadata": {},
   "outputs": [
    {
     "name": "stdout",
     "output_type": "stream",
     "text": [
      "True\n",
      "False\n",
      "True\n",
      "False\n"
     ]
    }
   ],
   "source": [
    "print(compare_names('T Williams-Reno', 'Franc MT Williams-Reno'))\n",
    "print(compare_names('T Williams-Reno', 'M Williams-Reno'))\n",
    "print(compare_names('T Williams-Reno', 'T Williams Reno'))\n",
    "print(compare_names('Marua Williams-Reno', 'Maria Williams-Reno'))"
   ]
  },
  {
   "cell_type": "code",
   "execution_count": null,
   "metadata": {},
   "outputs": [],
   "source": []
  }
 ],
 "metadata": {
  "kernelspec": {
   "display_name": "Python 3",
   "language": "python",
   "name": "python3"
  },
  "language_info": {
   "codemirror_mode": {
    "name": "ipython",
    "version": 3
   },
   "file_extension": ".py",
   "mimetype": "text/x-python",
   "name": "python",
   "nbconvert_exporter": "python",
   "pygments_lexer": "ipython3",
   "version": "3.6.3"
  }
 },
 "nbformat": 4,
 "nbformat_minor": 2
}
