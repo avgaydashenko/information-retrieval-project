{
 "cells": [
  {
   "cell_type": "code",
   "execution_count": 1,
   "metadata": {
    "collapsed": true
   },
   "outputs": [],
   "source": [
    "import requests\n",
    "from lxml import html\n",
    "from robots import Robot"
   ]
  },
  {
   "cell_type": "code",
   "execution_count": 2,
   "metadata": {
    "collapsed": true
   },
   "outputs": [],
   "source": [
    "def get_parsed_page(url):\n",
    "    return html.fromstring(requests.get(url).content)\n",
    "\n",
    "def get_links(parsed_page, url):\n",
    "    result = []\n",
    "    post_urls = parsed_page.xpath('//a/@href')\n",
    "    for post_url in post_urls:\n",
    "        if len(post_url) == 0:\n",
    "            continue\n",
    "        if post_url[0] == '/':\n",
    "            post_url = url + (post_url[1:] if url[-1] == '/' else post_url)\n",
    "        if post_url not in url_doc and robot.is_allowed(post_url):\n",
    "            result.append(post_url)\n",
    "    return result"
   ]
  },
  {
   "cell_type": "code",
   "execution_count": 3,
   "metadata": {
    "collapsed": true
   },
   "outputs": [],
   "source": [
    "robot = Robot()\n",
    "url_doc = {}\n",
    "to_do = ['https://search.crossref.org/']"
   ]
  },
  {
   "cell_type": "code",
   "execution_count": 4,
   "metadata": {
    "collapsed": true
   },
   "outputs": [],
   "source": [
    "MAX_NUM = 2"
   ]
  },
  {
   "cell_type": "code",
   "execution_count": 5,
   "metadata": {
    "collapsed": true
   },
   "outputs": [],
   "source": [
    "for url in to_do:\n",
    "    \n",
    "#     print(url)\n",
    "    \n",
    "    if len(url_doc) >= MAX_NUM:\n",
    "        break\n",
    "        \n",
    "    if url in url_doc or not robot.is_allowed(url):\n",
    "        continue\n",
    "        \n",
    "    parsed_page = get_parsed_page(url)\n",
    "    url_doc[url] = parsed_page\n",
    "    \n",
    "    to_do += get_links(parsed_page, url)"
   ]
  },
  {
   "cell_type": "code",
   "execution_count": 6,
   "metadata": {},
   "outputs": [
    {
     "data": {
      "text/plain": [
       "{'https://search.crossref.org/': <Element html at 0x7f7a51caa4a8>,\n",
       " 'https://search.crossref.org/funding': <Element html at 0x7f7a51cb8228>}"
      ]
     },
     "execution_count": 6,
     "metadata": {},
     "output_type": "execute_result"
    }
   ],
   "source": [
    "url_doc"
   ]
  },
  {
   "cell_type": "code",
   "execution_count": 7,
   "metadata": {},
   "outputs": [
    {
     "data": {
      "text/plain": [
       "['https://search.crossref.org/',\n",
       " 'https://search.crossref.org/funding',\n",
       " 'https://search.crossref.org/references',\n",
       " 'https://search.crossref.org/help/status',\n",
       " 'http://api.crossref.org',\n",
       " 'https://search.crossref.org/help/search',\n",
       " 'https://search.crossref.org/help/search',\n",
       " 'https://search.crossref.org/funding/funding',\n",
       " 'https://search.crossref.org/funding/']"
      ]
     },
     "execution_count": 7,
     "metadata": {},
     "output_type": "execute_result"
    }
   ],
   "source": [
    "to_do"
   ]
  },
  {
   "cell_type": "code",
   "execution_count": null,
   "metadata": {
    "collapsed": true
   },
   "outputs": [],
   "source": []
  }
 ],
 "metadata": {
  "kernelspec": {
   "display_name": "Python 3",
   "language": "python",
   "name": "python3"
  },
  "language_info": {
   "codemirror_mode": {
    "name": "ipython",
    "version": 3
   },
   "file_extension": ".py",
   "mimetype": "text/x-python",
   "name": "python",
   "nbconvert_exporter": "python",
   "pygments_lexer": "ipython3",
   "version": "3.6.1"
  }
 },
 "nbformat": 4,
 "nbformat_minor": 2
}
