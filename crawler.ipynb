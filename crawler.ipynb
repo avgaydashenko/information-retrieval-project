{
 "cells": [
  {
   "cell_type": "code",
   "execution_count": 57,
   "metadata": {
    "collapsed": true
   },
   "outputs": [],
   "source": [
    "import requests\n",
    "from lxml import html\n",
    "from robots import Robot\n",
    "from bs4 import BeautifulSoup"
   ]
  },
  {
   "cell_type": "code",
   "execution_count": 117,
   "metadata": {},
   "outputs": [],
   "source": [
    "url = 'https://arxiv.org/'"
   ]
  },
  {
   "cell_type": "code",
   "execution_count": 105,
   "metadata": {
    "collapsed": true
   },
   "outputs": [],
   "source": [
    "def get_parsed_page(url):\n",
    "    return html.fromstring(requests.get(url).content)\n",
    "\n",
    "def get_links(parsed_page, url):\n",
    "    result = []\n",
    "    post_urls = parsed_page.xpath('//a/@href')\n",
    "    for post_url in post_urls:\n",
    "        if len(post_url) == 0:\n",
    "            continue\n",
    "        if post_url[0] == '/':\n",
    "            post_url = url + (post_url[1:] if url[-1] == '/' else post_url)\n",
    "        if post_url not in url_doc and robot.is_allowed(post_url):\n",
    "            result.append(post_url)\n",
    "    return result"
   ]
  },
  {
   "cell_type": "code",
   "execution_count": 118,
   "metadata": {
    "collapsed": true
   },
   "outputs": [],
   "source": [
    "robot = Robot()\n",
    "url_doc = {}\n",
    "to_do = [url]"
   ]
  },
  {
   "cell_type": "code",
   "execution_count": 119,
   "metadata": {
    "collapsed": true
   },
   "outputs": [],
   "source": [
    "MAX_NUM = 10"
   ]
  },
  {
   "cell_type": "code",
   "execution_count": 120,
   "metadata": {},
   "outputs": [
    {
     "name": "stdout",
     "output_type": "stream",
     "text": [
      "https://arxiv.org/\n",
      "http://www.cornell.edu/\n",
      "http://www.cornell.edu/\n",
      "https://arxiv.org/help\n",
      "https://arxiv.org/new#oct31_2017\n",
      "https://blogs.cornell.edu/arxiv/2017/10/11/donate-to-arxiv-2/\n",
      "https://arxiv.org/help/econ/announcement\n",
      "https://arxiv.org/help/eess/announcement\n",
      "https://arxiv.org/new/\n",
      "https://arxiv.org/help/robots\n",
      "https://arxiv.org/archive/astro-ph\n",
      "https://arxiv.org/list/astro-ph/new\n"
     ]
    }
   ],
   "source": [
    "for url in to_do:\n",
    "    \n",
    "    print(url)\n",
    "    \n",
    "    if len(url_doc) >= MAX_NUM:\n",
    "        break\n",
    "        \n",
    "    if url in url_doc or not robot.is_allowed(url):\n",
    "        continue\n",
    "        \n",
    "    parsed_page = get_parsed_page(url)\n",
    "    url_doc[url] = parsed_page\n",
    "    \n",
    "    to_do += get_links(parsed_page, url)"
   ]
  },
  {
   "cell_type": "code",
   "execution_count": 121,
   "metadata": {},
   "outputs": [
    {
     "data": {
      "text/plain": [
       "{'http://www.cornell.edu/': <Element html at 0x10c52e188>,\n",
       " 'https://arxiv.org/': <Element html at 0x10c5104f8>,\n",
       " 'https://arxiv.org/archive/astro-ph': <Element html at 0x10c5e1778>,\n",
       " 'https://arxiv.org/help': <Element html at 0x10c52fc78>,\n",
       " 'https://arxiv.org/help/econ/announcement': <Element html at 0x10c5b5368>,\n",
       " 'https://arxiv.org/help/eess/announcement': <Element html at 0x10c5b5e08>,\n",
       " 'https://arxiv.org/help/robots': <Element html at 0x10c4b1ea8>,\n",
       " 'https://arxiv.org/new#oct31_2017': <Element html at 0x10c52edb8>,\n",
       " 'https://arxiv.org/new/': <Element html at 0x10c5d1408>,\n",
       " 'https://blogs.cornell.edu/arxiv/2017/10/11/donate-to-arxiv-2/': <Element html at 0x10c4a8c28>}"
      ]
     },
     "execution_count": 121,
     "metadata": {},
     "output_type": "execute_result"
    }
   ],
   "source": [
    "url_doc"
   ]
  },
  {
   "cell_type": "code",
   "execution_count": 123,
   "metadata": {},
   "outputs": [
    {
     "name": "stdout",
     "output_type": "stream",
     "text": [
      "https://arxiv.org/new#oct31_2017/help/submit_tex#pdflatex\n",
      "https://arxiv.org/new#oct31_2017/pdf/math.DG/0307245\n",
      "https://arxiv.org/new#oct31_2017/pdf/math.DG/0303109\n",
      "https://arxiv.org/new#oct31_2017/pdf/math.DG/0211159\n",
      "https://arxiv.org/new#oct31_2017/help/pdf\n",
      "https://arxiv.org/new#oct31_2017/help/pdf\n",
      "https://arxiv.org/new/help/submit_tex#pdflatex\n",
      "https://arxiv.org/new/pdf/math.DG/0307245\n",
      "https://arxiv.org/new/pdf/math.DG/0303109\n",
      "https://arxiv.org/new/pdf/math.DG/0211159\n",
      "https://arxiv.org/new/help/pdf\n",
      "https://arxiv.org/new/help/pdf\n"
     ]
    }
   ],
   "source": [
    "for i in to_do:\n",
    "    if 'pdf' in i:\n",
    "        print(i)"
   ]
  },
  {
   "cell_type": "code",
   "execution_count": 111,
   "metadata": {},
   "outputs": [],
   "source": [
    "a = url_doc['https://arxiv.org/']"
   ]
  },
  {
   "cell_type": "code",
   "execution_count": 113,
   "metadata": {},
   "outputs": [
    {
     "name": "stdout",
     "output_type": "stream",
     "text": [
      "\n",
      "\n",
      "arXiv.org e-Print archive\n",
      "\n",
      "\n",
      "\n",
      "\n",
      "\n",
      "var _paq = _paq || [];\n",
      "_paq.push([\"setDomains\", [\"*.arxiv.org\"]]);\n",
      "_paq.push(['trackPageView']);\n",
      "_paq.push(['enableLinkTracking']);\n",
      "(function()\n",
      "{ var u=\"//webanalytics.library.cornell.edu/\"; _paq.push(['setTrackerUrl', u+'piwik.php']); _paq.push(['setSiteId', 538]); var d=document, g=d.createElement('script'), s=d.getElementsByTagName('script')[0]; g.type='text/javascript'; g.async=true; g.defer=true; g.src=u+'piwik.js'; s.parentNode.insertBefore(g,s); }\n",
      ")();\n",
      "\n",
      "\n",
      "\n",
      "\n",
      "\n",
      "\n",
      "\n",
      "\n",
      "\n",
      "\n",
      "\n",
      "\n",
      "\n",
      "Cornell University\n",
      "Library\n",
      "\n",
      "\n",
      "\n",
      "We gratefully acknowledge support fromthe Simons Foundation and member institutions\n",
      "\n",
      "\n",
      "\n",
      "\n",
      "arXiv.org\n",
      "Login\n",
      "\n",
      "\n",
      "                \n",
      "\n",
      "\n",
      "\n",
      "\n",
      " \n",
      "All papers\n",
      "Titles\n",
      "Authors\n",
      "Abstracts\n",
      "Full text\n",
      "Help pages\n",
      "\n",
      "\n",
      "\n",
      "(Help | Advanced search)\n",
      "\n",
      "\n",
      "\n",
      "\n",
      "\n",
      "Open access to 1,321,591 e-prints in Physics, Mathematics, Computer Science, Quantitative Biology, Quantitative Finance, Statistics, Electrical Engineering and Systems Science, and Economics\n",
      "\n",
      "  Subject search and browse: \n",
      "  \n",
      "Computer ScienceEconomicsElectrical Engineering and Systems ScienceMathematicsPhysicsQuantitative BiologyQuantitative FinanceStatistics\n",
      " \n",
      " \n",
      " \n",
      "\n",
      "\n",
      "\n",
      "31 Oct 2017: 2017 holiday schedule announced\n",
      "11 Oct 2017: Donate to arXiv Oct 16-19!\n",
      "26 Sep 2017: Introducing arXiv/Econ (Economics)\n",
      "18 Sep 2017: Introducing arXiv/EESS (Electrical Engineering and Systems Science)\n",
      "11 Sep 2017: Steinn Sigurdsson Appointed as arXiv Scientific Director\n",
      "See cumulative \"What's New\" pages.\n",
      "Read robots beware before attempting any automated download\n",
      "\n",
      "Physics\n",
      "\n",
      "Astrophysics (astro-ph new, recent, find)\n",
      "includes: Astrophysics of Galaxies; Cosmology and Nongalactic Astrophysics; Earth and Planetary Astrophysics; High Energy Astrophysical Phenomena; Instrumentation and Methods for Astrophysics; Solar and Stellar Astrophysics\n",
      "Condensed Matter (cond-mat new, recent, find)\n",
      "includes: Disordered Systems and Neural Networks; Materials Science; Mesoscale and Nanoscale Physics; Other Condensed Matter; Quantum Gases; Soft Condensed Matter; Statistical Mechanics; Strongly Correlated Electrons; Superconductivity\n",
      "General Relativity and Quantum Cosmology (gr-qc new, recent, find)\n",
      "High Energy Physics - Experiment (hep-ex new, recent, find)\n",
      "High Energy Physics - Lattice (hep-lat new, recent, find)\n",
      "High Energy Physics - Phenomenology (hep-ph new, recent, find)\n",
      "High Energy Physics - Theory (hep-th new, recent, find)\n",
      "Mathematical Physics (math-ph new, recent, find)\n",
      "Nonlinear Sciences (nlin new, recent, find)\n",
      "includes: Adaptation and Self-Organizing Systems; Cellular Automata and Lattice Gases; Chaotic Dynamics; Exactly Solvable and Integrable Systems; Pattern Formation and Solitons\n",
      "Nuclear Experiment (nucl-ex new, recent, find)\n",
      "Nuclear Theory (nucl-th new, recent, find)\n",
      "Physics (physics new, recent, find)\n",
      "includes: Accelerator Physics; Applied Physics; Atmospheric and Oceanic Physics; Atomic Physics; Atomic and Molecular Clusters; Biological Physics; Chemical Physics; Classical Physics; Computational Physics; Data Analysis, Statistics and Probability; Fluid Dynamics; General Physics; Geophysics; History and Philosophy of Physics; Instrumentation and Detectors; Medical Physics; Optics; Physics Education; Physics and Society; Plasma Physics; Popular Physics; Space Physics\n",
      "Quantum Physics (quant-ph new, recent, find)\n",
      "\n",
      "Mathematics\n",
      "\n",
      "Mathematics (math new, recent, find)\n",
      "includes (see detailed description): Algebraic Geometry; Algebraic Topology; Analysis of PDEs; Category Theory; Classical Analysis and ODEs; Combinatorics; Commutative Algebra; Complex Variables; Differential Geometry; Dynamical Systems; Functional Analysis; General Mathematics; General Topology; Geometric Topology; Group Theory; History and Overview; Information Theory; K-Theory and Homology; Logic; Mathematical Physics; Metric Geometry; Number Theory; Numerical Analysis; Operator Algebras; Optimization and Control; Probability; Quantum Algebra; Representation Theory; Rings and Algebras; Spectral Theory; Statistics Theory; Symplectic Geometry\n",
      "\n",
      "Computer Science\n",
      "\n",
      "Computing Research Repository (CoRR new, recent, find)\n",
      "includes (see detailed description): Artificial Intelligence; Computation and Language; Computational Complexity; Computational Engineering, Finance, and Science; Computational Geometry; Computer Science and Game Theory; Computer Vision and Pattern Recognition; Computers and Society; Cryptography and Security; Data Structures and Algorithms; Databases; Digital Libraries; Discrete Mathematics; Distributed, Parallel, and Cluster Computing; Emerging Technologies; Formal Languages and Automata Theory; General Literature; Graphics; Hardware Architecture; Human-Computer Interaction; Information Retrieval; Information Theory; Learning; Logic in Computer Science; Mathematical Software; Multiagent Systems; Multimedia; Networking and Internet Architecture; Neural and Evolutionary Computing; Numerical Analysis; Operating Systems; Other Computer Science; Performance; Programming Languages; Robotics; Social and Information Networks; Software Engineering; Sound; Symbolic Computation; Systems and Control\n",
      "\n",
      "Quantitative Biology\n",
      "\n",
      "Quantitative Biology (q-bio new, recent, find)\n",
      "includes (see detailed description): Biomolecules; Cell Behavior; Genomics; Molecular Networks; Neurons and Cognition; Other Quantitative Biology; Populations and Evolution; Quantitative Methods; Subcellular Processes; Tissues and Organs\n",
      "\n",
      "Quantitative Finance\n",
      "\n",
      "Quantitative Finance (q-fin new, recent, find)\n",
      "includes (see detailed description): Computational Finance; Economics; General Finance; Mathematical Finance; Portfolio Management; Pricing of Securities; Risk Management; Statistical Finance; Trading and Market Microstructure\n",
      "\n",
      "Statistics\n",
      "\n",
      "Statistics (stat new, recent, find)\n",
      "includes (see detailed description): Applications; Computation; Machine Learning; Methodology; Other Statistics; Statistics Theory\n",
      "\n",
      "Electrical Engineering and Systems Science\n",
      "\n",
      "Electrical Engineering and Systems Science (eess new, recent, find)\n",
      "includes (see detailed description): Audio and Speech Processing; Image and Video Processing; Signal Processing\n",
      "\n",
      "Economics\n",
      "\n",
      "Economics (econ new, recent, find)\n",
      "includes (see detailed description): Econometrics\n",
      "\n",
      "  \n",
      "\n",
      "About arXiv\n",
      "\n",
      "General information and Scientific Advisory Board\n",
      "Support and Governance Model and Member Advisory Board\n",
      "Find, view, email alerts and RSS feeds\n",
      "Submission and moderation details\n",
      "Usage statistics and news\n",
      "See also searchable help pages\n",
      "\n",
      "\n",
      "\n",
      "\n",
      "\n",
      "arXiv is an e-print service in the fields of physics, mathematics, computer science, \n",
      "quantitative biology, quantitative finance, statistics, electrical engineering and systems science, and economics. Submissions to arXiv should conform \n",
      "to Cornell University academic standards. arXiv is owned and operated by Cornell University, \n",
      "a private not-for-profit educational institution. arXiv is funded by \n",
      "Cornell University\n",
      "Library, the Simons Foundation \n",
      "and by the member institutions. \n",
      "\n",
      "\n",
      "\n",
      "Contact\n",
      "\n",
      "\n",
      "\n",
      "\n",
      "\n",
      "\n"
     ]
    }
   ],
   "source": [
    "print(a.text_content())"
   ]
  },
  {
   "cell_type": "code",
   "execution_count": 124,
   "metadata": {
    "collapsed": true
   },
   "outputs": [],
   "source": [
    "import string"
   ]
  },
  {
   "cell_type": "code",
   "execution_count": 132,
   "metadata": {},
   "outputs": [
    {
     "data": {
      "text/plain": [
       "'dhlptx'"
      ]
     },
     "execution_count": 132,
     "metadata": {},
     "output_type": "execute_result"
    }
   ],
   "source": [
    "string.ascii_lowercase[3::4]"
   ]
  },
  {
   "cell_type": "code",
   "execution_count": 133,
   "metadata": {
    "collapsed": true
   },
   "outputs": [],
   "source": [
    "import re"
   ]
  },
  {
   "cell_type": "code",
   "execution_count": 144,
   "metadata": {},
   "outputs": [],
   "source": [
    "m = re.search('arxiv\\.org\\/.*\\/?(?P<id>\\d{4}\\.\\d{5})', 'https://arxiv.org/pdf/1711.0075.pdf')"
   ]
  },
  {
   "cell_type": "code",
   "execution_count": 145,
   "metadata": {},
   "outputs": [
    {
     "ename": "AttributeError",
     "evalue": "'NoneType' object has no attribute 'group'",
     "output_type": "error",
     "traceback": [
      "\u001b[0;31m---------------------------------------------------------------------------\u001b[0m",
      "\u001b[0;31mAttributeError\u001b[0m                            Traceback (most recent call last)",
      "\u001b[0;32m<ipython-input-145-5c87450107aa>\u001b[0m in \u001b[0;36m<module>\u001b[0;34m()\u001b[0m\n\u001b[0;32m----> 1\u001b[0;31m \u001b[0mm\u001b[0m\u001b[0;34m.\u001b[0m\u001b[0mgroup\u001b[0m\u001b[0;34m(\u001b[0m\u001b[0;34m'id'\u001b[0m\u001b[0;34m)\u001b[0m\u001b[0;34m\u001b[0m\u001b[0m\n\u001b[0m",
      "\u001b[0;31mAttributeError\u001b[0m: 'NoneType' object has no attribute 'group'"
     ]
    }
   ],
   "source": [
    "m.group('id')"
   ]
  },
  {
   "cell_type": "code",
   "execution_count": null,
   "metadata": {
    "collapsed": true
   },
   "outputs": [],
   "source": []
  }
 ],
 "metadata": {
  "kernelspec": {
   "display_name": "Python 3",
   "language": "python",
   "name": "python3"
  },
  "language_info": {
   "codemirror_mode": {
    "name": "ipython",
    "version": 3
   },
   "file_extension": ".py",
   "mimetype": "text/x-python",
   "name": "python",
   "nbconvert_exporter": "python",
   "pygments_lexer": "ipython3",
   "version": "3.6.1"
  }
 },
 "nbformat": 4,
 "nbformat_minor": 2
}
