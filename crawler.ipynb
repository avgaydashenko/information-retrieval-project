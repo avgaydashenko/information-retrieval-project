{
 "cells": [
  {
   "cell_type": "code",
   "execution_count": 1,
   "metadata": {
    "collapsed": true
   },
   "outputs": [],
   "source": [
    "import requests\n",
    "from lxml import html\n",
    "from robots import Robot"
   ]
  },
  {
   "cell_type": "code",
   "execution_count": 2,
   "metadata": {},
   "outputs": [],
   "source": [
    "def get_parsed_page(url):\n",
    "    return html.fromstring(requests.get(url).content)"
   ]
  },
  {
   "cell_type": "code",
   "execution_count": 14,
   "metadata": {
    "collapsed": true
   },
   "outputs": [],
   "source": [
    "robot = Robot()\n",
    "url_doc = {}\n",
    "to_do = ['https://search.crossref.org/']"
   ]
  },
  {
   "cell_type": "code",
   "execution_count": 15,
   "metadata": {
    "collapsed": true
   },
   "outputs": [],
   "source": [
    "MAX_NUM = 5"
   ]
  },
  {
   "cell_type": "code",
   "execution_count": 16,
   "metadata": {},
   "outputs": [
    {
     "name": "stdout",
     "output_type": "stream",
     "text": [
      "https://search.crossref.org/\n",
      "https://search.crossref.org/funding\n",
      "https://search.crossref.org/references\n",
      "https://search.crossref.org/help/status\n",
      "http://api.crossref.org\n",
      "https://search.crossref.org/help/search\n"
     ]
    }
   ],
   "source": [
    "for url in to_do:\n",
    "    \n",
    "#     print(url)\n",
    "    \n",
    "    if len(url_doc) >= MAX_NUM:\n",
    "        break\n",
    "        \n",
    "    if url in url_doc or not robot.is_allowed(url):\n",
    "        continue\n",
    "        \n",
    "    parsed_page = get_parsed_page(url)\n",
    "    url_doc[url] = parsed_page\n",
    "    \n",
    "    post_urls = parsed_page.xpath('//a/@href')\n",
    "    for post_url in post_urls:\n",
    "        if len(post_url) == 0:\n",
    "            continue\n",
    "        if post_url[0] == '/':\n",
    "            post_url = url + (post_url[1:] if url[-1] == '/' else post_url)\n",
    "        if post_url not in url_doc and robot.is_allowed(post_url):\n",
    "            to_do.append(post_url)"
   ]
  },
  {
   "cell_type": "code",
   "execution_count": null,
   "metadata": {
    "collapsed": true
   },
   "outputs": [],
   "source": []
  }
 ],
 "metadata": {
  "kernelspec": {
   "display_name": "Python 3",
   "language": "python",
   "name": "python3"
  },
  "language_info": {
   "codemirror_mode": {
    "name": "ipython",
    "version": 3
   },
   "file_extension": ".py",
   "mimetype": "text/x-python",
   "name": "python",
   "nbconvert_exporter": "python",
   "pygments_lexer": "ipython3",
   "version": "3.6.1"
  }
 },
 "nbformat": 4,
 "nbformat_minor": 2
}
