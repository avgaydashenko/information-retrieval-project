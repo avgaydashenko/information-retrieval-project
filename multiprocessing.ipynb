{
 "cells": [
  {
   "cell_type": "code",
   "execution_count": 6,
   "metadata": {},
   "outputs": [
    {
     "name": "stdout",
     "output_type": "stream",
     "text": [
      "01\n",
      "\n",
      "01\n",
      "\n",
      "01\n",
      "\n",
      "01\n",
      "\n",
      "01\n",
      "\n",
      "0\n",
      "1\n",
      "01\n",
      "\n",
      "0\n",
      "1\n",
      "01\n",
      "\n",
      "01\n",
      "\n"
     ]
    }
   ],
   "source": [
    "import threading\n",
    "\n",
    "def writer(x, event_for_wait, event_for_set):\n",
    "    for i in range(10):\n",
    "        event_for_wait.wait() # wait for event\n",
    "        event_for_wait.clear() # clean event for future\n",
    "        print (x)\n",
    "        event_for_set.set() # set event for neighbor thread\n",
    "\n",
    "# init events\n",
    "e1 = threading.Event()\n",
    "e2 = threading.Event()\n",
    "\n",
    "# init threads\n",
    "t1 = threading.Thread(target=writer, args=(0, e1, e2))\n",
    "t2 = threading.Thread(target=writer, args=(1, e2, e1))\n",
    "\n",
    "# start threads\n",
    "t1.start()\n",
    "t2.start()\n",
    "\n",
    "e1.set() # initiate the first event\n",
    "\n",
    "# join threads to the main thread\n",
    "t1.join()\n",
    "t2.join()"
   ]
  },
  {
   "cell_type": "code",
   "execution_count": null,
   "metadata": {
    "collapsed": true
   },
   "outputs": [],
   "source": []
  }
 ],
 "metadata": {
  "kernelspec": {
   "display_name": "Python 3",
   "language": "python",
   "name": "python3"
  },
  "language_info": {
   "codemirror_mode": {
    "name": "ipython",
    "version": 3
   },
   "file_extension": ".py",
   "mimetype": "text/x-python",
   "name": "python",
   "nbconvert_exporter": "python",
   "pygments_lexer": "ipython3",
   "version": "3.6.1"
  }
 },
 "nbformat": 4,
 "nbformat_minor": 2
}
