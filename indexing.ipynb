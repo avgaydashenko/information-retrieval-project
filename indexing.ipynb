{
 "cells": [
  {
   "cell_type": "code",
   "execution_count": 1,
   "metadata": {},
   "outputs": [],
   "source": [
    "import os\n",
    "import pickle\n",
    "from tqdm import tqdm\n",
    "from math import log\n",
    "from nltk import PorterStemmer"
   ]
  },
  {
   "cell_type": "code",
   "execution_count": 2,
   "metadata": {},
   "outputs": [],
   "source": [
    "folder = 'documents/'"
   ]
  },
  {
   "cell_type": "code",
   "execution_count": 3,
   "metadata": {},
   "outputs": [
    {
     "name": "stderr",
     "output_type": "stream",
     "text": [
      "100%|██████████| 1454/1454 [04:38<00:00,  5.23it/s]\n"
     ]
    }
   ],
   "source": [
    "k = 2\n",
    "b = 0.75\n",
    "\n",
    "stemmer = PorterStemmer()\n",
    "\n",
    "N = 0\n",
    "sum_len = 0\n",
    "\n",
    "dl = {}\n",
    "tf = {}\n",
    "bm = {}\n",
    "\n",
    "for d in tqdm(os.listdir(folder)):\n",
    "    with open(folder + d) as f:\n",
    "        dl[d] = 0\n",
    "        for line in f.readlines():\n",
    "            terms = [stemmer.stem(word).encode(\"utf8\") for word in line.lower().split(' ') if len(word) > 1]\n",
    "            dl[d] += len(terms)\n",
    "            for t in terms:\n",
    "                if t in bm:\n",
    "                    if d not in bm[t]:\n",
    "                        bm[t].append(d)\n",
    "                else:\n",
    "                    bm[t] = [d]\n",
    "                if (t, d) in tf:\n",
    "                    tf[(t, d)] += 1\n",
    "                else:\n",
    "                    tf[(t, d)] = 1\n",
    "        N += 1\n",
    "        sum_len += dl[d]\n",
    "    \n",
    "dl_ave = sum_len / N"
   ]
  },
  {
   "cell_type": "code",
   "execution_count": 4,
   "metadata": {},
   "outputs": [
    {
     "data": {
      "text/plain": [
       "5985.940165061898"
      ]
     },
     "execution_count": 4,
     "metadata": {},
     "output_type": "execute_result"
    }
   ],
   "source": [
    "dl_ave"
   ]
  },
  {
   "cell_type": "code",
   "execution_count": 5,
   "metadata": {},
   "outputs": [
    {
     "data": {
      "text/plain": [
       "1454"
      ]
     },
     "execution_count": 5,
     "metadata": {},
     "output_type": "execute_result"
    }
   ],
   "source": [
    "N"
   ]
  },
  {
   "cell_type": "code",
   "execution_count": 6,
   "metadata": {},
   "outputs": [
    {
     "data": {
      "text/plain": [
       "35420"
      ]
     },
     "execution_count": 6,
     "metadata": {},
     "output_type": "execute_result"
    }
   ],
   "source": [
    "len(bm.keys())"
   ]
  },
  {
   "cell_type": "code",
   "execution_count": 7,
   "metadata": {},
   "outputs": [
    {
     "data": {
      "text/plain": [
       "[(b'dictionari',\n",
       "  'document_from_url_with_hash_210eeef7d1d063712f8303e1087cc350'),\n",
       " (b'thesauru', 'document_from_url_with_hash_210eeef7d1d063712f8303e1087cc350'),\n",
       " (b'grammar', 'document_from_url_with_hash_210eeef7d1d063712f8303e1087cc350'),\n",
       " (b'a-z', 'document_from_url_with_hash_210eeef7d1d063712f8303e1087cc350'),\n",
       " (b'spell', 'document_from_url_with_hash_210eeef7d1d063712f8303e1087cc350'),\n",
       " (b'punctuat', 'document_from_url_with_hash_210eeef7d1d063712f8303e1087cc350'),\n",
       " (b'write', 'document_from_url_with_hash_210eeef7d1d063712f8303e1087cc350'),\n",
       " (b'help', 'document_from_url_with_hash_210eeef7d1d063712f8303e1087cc350'),\n",
       " (b'usag', 'document_from_url_with_hash_210eeef7d1d063712f8303e1087cc350'),\n",
       " (b'explor', 'document_from_url_with_hash_210eeef7d1d063712f8303e1087cc350')]"
      ]
     },
     "execution_count": 7,
     "metadata": {},
     "output_type": "execute_result"
    }
   ],
   "source": [
    "list(tf.keys())[:10]"
   ]
  },
  {
   "cell_type": "code",
   "execution_count": 8,
   "metadata": {},
   "outputs": [
    {
     "name": "stderr",
     "output_type": "stream",
     "text": [
      "100%|██████████| 35420/35420 [00:00<00:00, 45185.54it/s]\n"
     ]
    }
   ],
   "source": [
    "for t in tqdm(bm):\n",
    "    scores = []\n",
    "    df_t = len(bm[t])\n",
    "    for d in bm[t]:\n",
    "        scores.append(log(N / df_t) * ((k + 1) * tf[(t, d)]) / (k * (1 - b + b * dl[d] / dl_ave) + tf[(t, d)]))\n",
    "    bm[t] = list(zip(scores, bm[t]))"
   ]
  },
  {
   "cell_type": "code",
   "execution_count": 9,
   "metadata": {},
   "outputs": [],
   "source": [
    "with open('bm.pickle', 'wb') as bm_file:\n",
    "    pickle.dump(bm, bm_file)"
   ]
  },
  {
   "cell_type": "code",
   "execution_count": 10,
   "metadata": {},
   "outputs": [
    {
     "name": "stderr",
     "output_type": "stream",
     "text": [
      "100%|██████████| 35420/35420 [00:00<00:00, 637715.69it/s]\n"
     ]
    }
   ],
   "source": [
    "max_len = 0\n",
    "avg_len = 0\n",
    "\n",
    "for t in tqdm(bm):\n",
    "    max_len = max(max_len, len(bm[t]))\n",
    "    avg_len += len(bm[t])\n",
    "    \n",
    "avg_len /= len(bm.keys())"
   ]
  },
  {
   "cell_type": "code",
   "execution_count": 11,
   "metadata": {},
   "outputs": [
    {
     "data": {
      "text/plain": [
       "(9.555957086391869, 1155)"
      ]
     },
     "execution_count": 11,
     "metadata": {},
     "output_type": "execute_result"
    }
   ],
   "source": [
    "avg_len, max_len"
   ]
  },
  {
   "cell_type": "code",
   "execution_count": null,
   "metadata": {},
   "outputs": [],
   "source": []
  }
 ],
 "metadata": {
  "kernelspec": {
   "display_name": "Python 3",
   "language": "python",
   "name": "python3"
  },
  "language_info": {
   "codemirror_mode": {
    "name": "ipython",
    "version": 3
   },
   "file_extension": ".py",
   "mimetype": "text/x-python",
   "name": "python",
   "nbconvert_exporter": "python",
   "pygments_lexer": "ipython3",
   "version": "3.6.3"
  }
 },
 "nbformat": 4,
 "nbformat_minor": 2
}
